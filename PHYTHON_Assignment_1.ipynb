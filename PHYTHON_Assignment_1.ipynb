{
  "nbformat": 4,
  "nbformat_minor": 0,
  "metadata": {
    "colab": {
      "name": "PHYTHON Assignment 1",
      "provenance": [],
      "collapsed_sections": [],
      "authorship_tag": "ABX9TyNk/xcDycXkxWqED7bx5xOO",
      "include_colab_link": true
    },
    "kernelspec": {
      "name": "python3",
      "display_name": "Python 3"
    },
    "language_info": {
      "name": "python"
    }
  },
  "cells": [
    {
      "cell_type": "markdown",
      "metadata": {
        "id": "view-in-github",
        "colab_type": "text"
      },
      "source": [
        "<a href=\"https://colab.research.google.com/github/bernatshasam/bernatshasam/blob/main/PHYTHON_Assignment_1.ipynb\" target=\"_parent\"><img src=\"https://colab.research.google.com/assets/colab-badge.svg\" alt=\"Open In Colab\"/></a>"
      ]
    },
    {
      "cell_type": "code",
      "metadata": {
        "id": "VrpJ_PId4NmW",
        "colab": {
          "base_uri": "https://localhost:8080/"
        },
        "outputId": "e3b201be-150f-4084-b2f5-2595c17f0013"
      },
      "source": [
        " \n",
        "[1] #program for sum of two numbers\n",
        "num1= 12\n",
        "num2= 20\n",
        "total=num1+num2\n",
        "print (total)"
      ],
      "execution_count": null,
      "outputs": [
        {
          "output_type": "stream",
          "text": [
            "32\n"
          ],
          "name": "stdout"
        }
      ]
    },
    {
      "cell_type": "code",
      "metadata": {
        "id": "Ev-sRBMEfRPT",
        "colab": {
          "base_uri": "https://localhost:8080/"
        },
        "outputId": "55b994c1-2cf0-4d78-b2db-f1904abec1ff"
      },
      "source": [
        "[2] #program to find circumference of circle\n",
        "import math\n",
        "radius = float(input(\"Enter the radius of the circle : \"))\n",
        "circumference = 2 * math.pi * radius\n",
        "print(\" circumference of the circle is :%2f\"% circumference)"
      ],
      "execution_count": null,
      "outputs": [
        {
          "output_type": "stream",
          "text": [
            "Enter the radius of the circle : 39\n",
            " circumference of the circle is :245.044227\n"
          ],
          "name": "stdout"
        }
      ]
    },
    {
      "cell_type": "code",
      "metadata": {
        "colab": {
          "base_uri": "https://localhost:8080/"
        },
        "id": "NY9Wi-wKiQvO",
        "outputId": "4d38c57f-37f5-4a55-c7c5-725a40a3cb04"
      },
      "source": [
        "[3] #program to convert celcius to Fahrenheit\n",
        "celcius=float(input('Enter temperature in celcius:'))\n",
        "#calculate temperature in Fahrenheit\n",
        "Fahrenheit=(celcius*1.8)+32\n",
        "print('%0.1f celcius is equal to %0.1f degree Fahrenheit'%(celcius, Fahrenheit))"
      ],
      "execution_count": null,
      "outputs": [
        {
          "output_type": "stream",
          "text": [
            "Enter temperature in celcius:34\n",
            "34.0 celcius is equal to 93.2 degree Fahrenheit\n"
          ],
          "name": "stdout"
        }
      ]
    },
    {
      "cell_type": "code",
      "metadata": {
        "colab": {
          "base_uri": "https://localhost:8080/"
        },
        "id": "vixQ208qkiUw",
        "outputId": "987fd329-b128-4437-eb89-61c733145fa5"
      },
      "source": [
        "[4] # program to swap 2 numbers\n",
        "a=int(input(\"Enter the first number:\\n\"))\n",
        "b=int(input(\"Enter the second number:\\n\"))\n",
        "print(\"a=\",a,\"b=\",b)\n",
        "# using temp variable\n",
        "t=a\n",
        "a=b\n",
        "b=t\n",
        "print(\"a=\",a,\"b=\",b)\n",
        "# without using temp variable\n",
        "a=a+b\n",
        "b=a-b\n",
        "a=a-b\n",
        "print(\"a=\",a,\"b=\",b)"
      ],
      "execution_count": null,
      "outputs": [
        {
          "output_type": "stream",
          "text": [
            "Enter the first number:\n",
            "20\n",
            "Enter the second number:\n",
            "7\n",
            "a= 20 b= 7\n",
            "a= 7 b= 20\n",
            "a= 20 b= 7\n"
          ],
          "name": "stdout"
        }
      ]
    },
    {
      "cell_type": "code",
      "metadata": {
        "id": "RbWbWz4KncnO",
        "colab": {
          "base_uri": "https://localhost:8080/"
        },
        "outputId": "1694672f-3330-4f95-914e-b67e3557620e"
      },
      "source": [
        "#program to read five marks from user and calculate total and average.\n",
        "sub1=int(input(\"Enter marks of the first subject:\"))\n",
        "sub2=int(input(\"Enter marks of the second subject:\"))\n",
        "sub3=int(input(\"Enter marks of the third subject:\"))\n",
        "sub4=int(input(\"Enter marks of the fourth subject:\"))\n",
        "sub5=int(input(\"Enter marks of the fifth subject:\"))\n",
        "total=sub1+sub2+sub3+sub4+sub5\n",
        "average=total/5\n",
        "print (\"total=\",total)\n",
        "print(\"average=\",average)"
      ],
      "execution_count": null,
      "outputs": [
        {
          "output_type": "stream",
          "text": [
            "Enter marks of the first subject:89\n",
            "Enter marks of the second subject:90\n",
            "Enter marks of the third subject:87\n",
            "Enter marks of the fourth subject:95\n",
            "Enter marks of the fifth subject:93\n",
            "total= 454\n",
            "average= 90.8\n"
          ],
          "name": "stdout"
        }
      ]
    },
    {
      "cell_type": "markdown",
      "metadata": {
        "id": "bI2JZGltuBiz"
      },
      "source": [
        " Bernatshasam. W\n",
        " \n",
        "212220090001"
      ]
    }
  ]
}